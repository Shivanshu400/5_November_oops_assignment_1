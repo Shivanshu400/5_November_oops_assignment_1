{
 "cells": [
  {
   "cell_type": "code",
   "execution_count": null,
   "id": "f3aa6127-1217-4cb2-a371-5d20faec017f",
   "metadata": {},
   "outputs": [],
   "source": [
    "# Problem 1: Bank Account Create a class representing a bank account with attributes like account number, account holder name, and balance. Implement methods to deposit and withdraw money from the account."
   ]
  },
  {
   "cell_type": "code",
   "execution_count": 2,
   "id": "18bb87e8-fb0d-47c1-a011-8b91f37d360e",
   "metadata": {},
   "outputs": [],
   "source": [
    "class bank_account:\n",
    "    def __init__(self,account_number,account_holder_name,balance):\n",
    "        self.account_number=account_number\n",
    "        self.account_holder_name=account_holder_name\n",
    "        self.balance=balance\n",
    "\n",
    "    \n",
    "    def deposit(self,balance,account_holder_name):\n",
    "        try:\n",
    "            deposit_money=int(input(\"Enter the money for depositing\"))\n",
    "            print(f\"Your money before deposited is={balance}\")\n",
    "            if deposit_money>0:\n",
    "               balance=balance+deposit_money\n",
    "               print(f\"{account_holder_name} Deposited balance become={balance}\")\n",
    "            else:\n",
    "                raise Exception(\"Money not be negative\")\n",
    "        except:\n",
    "               print(\" input balance is invalid can't be accepted \")\n",
    "        finally:\n",
    "               return balance\n",
    "\n",
    "    \n",
    "    def Withdraw(self,balance,account_holder_name):\n",
    "        try:\n",
    "            withdraw_money=int(input(\"Enter the money for withdraw\"))\n",
    "            if withdraw_money>balance:\n",
    "               raise Exception(\"You have not sufficient amount\")\n",
    "            elif withdraw_money==0:\n",
    "                  raise Exception(\"You can't withdraw 0 amount\")\n",
    "            else:\n",
    "                print(f\"Before withdraw is={balance} \")\n",
    "                balance=balance-withdraw_money\n",
    "                print(f\"After withdraw by {account_holder_name}) balance  is={balance} \")\n",
    "        except Exception as e:\n",
    "            print(e)\n",
    "        finally:\n",
    "            print(f\"your balance is = {balance} \")\n",
    "             \n",
    "    \n",
    "            \n",
    "        \n",
    "    \n",
    "    "
   ]
  },
  {
   "cell_type": "code",
   "execution_count": null,
   "id": "fbfc3b2c-adb0-4a95-8ddf-7667f3f49855",
   "metadata": {},
   "outputs": [
    {
     "name": "stdin",
     "output_type": "stream",
     "text": [
      "Enter the account number shdsjjh\n"
     ]
    },
    {
     "name": "stdout",
     "output_type": "stream",
     "text": [
      "invalid literal for int() with base 10: 'shdsjjh'\n"
     ]
    },
    {
     "name": "stdin",
     "output_type": "stream",
     "text": [
      "Enter the account holder name 1bch hv\n"
     ]
    },
    {
     "name": "stdout",
     "output_type": "stream",
     "text": [
      "Name should be string not integer\n"
     ]
    }
   ],
   "source": [
    "try: \n",
    "    flag=0\n",
    "    account_number=int(input(\"Enter the account number\"))\n",
    "except Exception as e: \n",
    "    flag=flag+1\n",
    "    print(e) \n",
    "\n",
    "\n",
    "try: \n",
    "    name=str(input(\"Enter the account holder name\")) \n",
    "    if name[0] in [\"1\",\"2\",\"3\",\"4\",\"5\",\"6\",\"7\",\"8\",\"9\",\"0\"] : \n",
    "        flag=flag+1\n",
    "        raise Exception(\"Name should be string not integer\") \n",
    "except Exception as v: \n",
    "    print(v) \n",
    "\n",
    "\n",
    "try: \n",
    "    balance=int(input(\"Enter your balance\")) \n",
    "    if balance<0:\n",
    "        raise Exception(\"Error account balance can't negative\")\n",
    "        flag=flag+1\n",
    "except Exception as t: \n",
    "        flag=flag+1\n",
    "        print(t)\n",
    "\n",
    "try:\n",
    "    if flag==0:\n",
    "        a=bank_account(account_number,name,balance) \n",
    "        updated =a.deposit(balance,name) \n",
    "        a.Withdraw(updated,name)\n",
    "    else:\n",
    "        print(\"Invalid credential\")\n",
    "except Exception as EX:\n",
    "    print(Ex)\n",
    "\n",
    "\n"
   ]
  },
  {
   "cell_type": "code",
   "execution_count": null,
   "id": "0545b9a7-e9ad-4b7c-b457-189f4eab7dd2",
   "metadata": {},
   "outputs": [],
   "source": [
    "# Problem 2: Employee Management Create a class representing an employee with attributes like employee ID, name, and salary. Implement methods to calculate the yearly bonus and display employee details."
   ]
  },
  {
   "cell_type": "code",
   "execution_count": 9,
   "id": "de8aa372-0f89-47c9-8436-3f95af5dde79",
   "metadata": {},
   "outputs": [
    {
     "name": "stdin",
     "output_type": "stream",
     "text": [
      "Enter the name shivanshu\n",
      "Enter the emp_id 1\n",
      "Enter your salary 150\n",
      "Enter the bonus in % 10\n"
     ]
    },
    {
     "name": "stdout",
     "output_type": "stream",
     "text": [
      "Employee name is :shivanshu\n",
      "\n",
      "Employee id is:1\n",
      "\n",
      "Employee get bonus 15.0\n",
      "\n",
      "Employee salary 150+15.0= 165.0\n"
     ]
    },
    {
     "name": "stdin",
     "output_type": "stream",
     "text": [
      "Enter the name priyanshu\n",
      "Enter the emp_id 28\n",
      "Enter your salary 1596\n",
      "Enter the bonus in % 12\n"
     ]
    },
    {
     "name": "stdout",
     "output_type": "stream",
     "text": [
      "Employee name is :priyanshu\n",
      "\n",
      "Employee id is:28\n",
      "\n",
      "Employee get bonus 191.52\n",
      "\n",
      "Employee salary 1596+191.52= 1787.52\n"
     ]
    },
    {
     "name": "stdin",
     "output_type": "stream",
     "text": [
      "Enter the name jdjfd\n",
      "Enter the emp_id 125\n",
      "Enter your salary 0\n",
      "Enter the bonus in % 10\n"
     ]
    },
    {
     "name": "stdout",
     "output_type": "stream",
     "text": [
      "Employee name is :jdjfd\n",
      "\n",
      "Employee id is:125\n",
      "\n",
      "Employee get bonus 0.0\n",
      "\n",
      "Employee salary 0+0.0= 0.0\n"
     ]
    }
   ],
   "source": [
    "class employee:\n",
    "    def __init__(self,emp_id,name,salary):\n",
    "        self.emp_id=emp_id\n",
    "        self.name=name\n",
    "        self.salary=salary\n",
    "    def year_bonus(self,emp_id,salary):\n",
    "        bonus_percent=float(input(\"Enter the bonus in %\"))\n",
    "        bonus=(salary*bonus_percent)/100\n",
    "        return bonus\n",
    "    def Display(self,ret):\n",
    "         print(f\"Employee name is :{name}\\n\")\n",
    "         print(f\"Employee id is:{emp_id}\\n\")\n",
    "         print(f\"Employee get bonus {ret}\\n\")\n",
    "         print(f\"Employee salary {salary}+{ret}=\",salary+ret)\n",
    "l=['a','b','c']\n",
    "for i in l:\n",
    "    name=str(input(\"Enter the name\"))\n",
    "    emp_id=int(input(\"Enter the emp_id\"))\n",
    "    salary=int(input(\"Enter your salary\"))\n",
    "    i=employee(emp_id,name,salary)\n",
    "    ret=i.year_bonus(emp_id,salary)\n",
    "    i.Display(ret)\n",
    "    \n",
    "        \n",
    "        "
   ]
  },
  {
   "cell_type": "code",
   "execution_count": null,
   "id": "005e100f-4b22-452f-bf6c-1ba1c7c794d0",
   "metadata": {},
   "outputs": [],
   "source": [
    "# Problem 3: Vehicle Rental Create a class representing a vehicle rental system. Implement methods to rent a vehicle, return a vehicle, and display available vehicles."
   ]
  },
  {
   "cell_type": "code",
   "execution_count": 68,
   "id": "f5952ab6-a7ba-4be3-93a3-0617609b1ac0",
   "metadata": {},
   "outputs": [
    {
     "name": "stdin",
     "output_type": "stream",
     "text": [
      "Enter the number of vehicle 5\n",
      "Enter the vehicle id 1002\n",
      "Enter the name sedan\n",
      "Enter 1 or 0 0\n"
     ]
    },
    {
     "name": "stdout",
     "output_type": "stream",
     "text": [
      "5\n",
      "Available vehicles: 5\n"
     ]
    }
   ],
   "source": [
    "class VehicleRental:\n",
    "    flag = 0  \n",
    "\n",
    "    def __init__(self, No_vehicle, vehicle_id, vehicle_name, AC):\n",
    "        self.No_vehicle = No_vehicle\n",
    "        self.vehicle_id = vehicle_id\n",
    "        self.vehicle_name = vehicle_name\n",
    "        self.AC = AC\n",
    "\n",
    "    def Rent(self):\n",
    "        if self.No_vehicle == 0:\n",
    "            return \"There is no vehicle for rent\"\n",
    "        elif self.AC == 1:\n",
    "            rent1 = int(input(\"Enter the rent for Vehicle: \"))\n",
    "            print(rent1)\n",
    "            self.No_vehicle = self.No_vehicle - 1\n",
    "            print(\"Avalability is after taking on rent of ac car\")\n",
    "            VehicleRental.flag += 1 \n",
    "        else:\n",
    "            rent1 = int(input(\"Enter the rent for non_ac: \"))\n",
    "            self.No_vehicle = self.No_vehicle - 1\n",
    "            VehicleRental.flag += 1\n",
    "            print(\"Avalability is after taking on rent of non ac\")\n",
    "        return self.No_vehicle\n",
    "\n",
    "    def return_vehicle(self):\n",
    "        if VehicleRental.flag > 0:  \n",
    "            self.No_vehicle = self.No_vehicle + 1\n",
    "            VehicleRental.flag -= 1\n",
    "        return self.No_vehicle\n",
    "\n",
    "    def Display(self, x):\n",
    "        print(f\"Available vehicles: {x}\")  \n",
    "\n",
    "\n",
    "No_vehicle=int(input(\"Enter the number of vehicle\"))\n",
    "id=int(input(\"Enter the vehicle id\"))\n",
    "name=str(input(\"Enter the name\"))\n",
    "ac_type=bool(input(\"Enter 1 or 0\"))\n",
    "rental = VehicleRental(No_vehicle, id, name, ac_type)\n",
    "# print(rental.Rent())  \n",
    "print(rental.return_vehicle()) \n",
    "rental.Display(rental.No_vehicle) \n"
   ]
  },
  {
   "cell_type": "code",
   "execution_count": 2,
   "id": "332e9b53-7f00-4c4e-8ad4-a78d241cacc3",
   "metadata": {},
   "outputs": [],
   "source": [
    "#Problem 4: Library Catalog Create classes representing a library and a book. Implement methods to add books to the library, borrow books, and display available books,\n",
    "    \n"
   ]
  },
  {
   "cell_type": "code",
   "execution_count": 39,
   "id": "e0d2f275-cfe1-4584-8157-16028e3088eb",
   "metadata": {},
   "outputs": [],
   "source": [
    "class Book:\n",
    "    def __init__(self, Name, Author_Name, Book_id):\n",
    "        self.Name = Name\n",
    "        self.Author = Author_Name\n",
    "        self.Book_id = Book_id\n",
    "\n",
    "class Library(Book):\n",
    "    def __init__(self, N, Name, Author_Name, Book_id):\n",
    "        super().__init__(Name, Author_Name, Book_id)\n",
    "        self.N = N\n",
    "        self.Dic = {}\n",
    "\n",
    "    def add(self):\n",
    "        self.Dic[self.Book_id] = [self.Name, self.Author]\n",
    "        print(self.Dic)\n",
    "\n",
    "    def borrower(self, Book_id):\n",
    "        if Book_id in self.Dic:\n",
    "            if self.N > 0:\n",
    "                print(f\"You borrow the book whose ID is {Book_id} and is authored by {self.Author}\")\n",
    "                self.N -= 1\n",
    "            else:\n",
    "                print(\"Your item is not available.\")\n",
    "        else:\n",
    "            print(f\"First add the book {Book_id}\")\n",
    "        \n",
    "    def Available(self):\n",
    "        if self.N > 0:\n",
    "            print(f\"your item remain only {self.N}\")\n",
    "            return self.N\n",
    "        else:\n",
    "            print(\"The item is not available.\")\n",
    "        return self.N\n",
    "      \n",
    "\n",
    "      "
   ]
  },
  {
   "cell_type": "code",
   "execution_count": 49,
   "id": "c4c2fa22-f3cf-4adc-bc1e-6b783e6cdbda",
   "metadata": {},
   "outputs": [
    {
     "name": "stdout",
     "output_type": "stream",
     "text": [
      "{123: ['Math', 'Np bali']}\n",
      "You borrow the book whose ID is 123 and is authored by Np bali\n",
      "1\n",
      "your item remain only 1\n",
      "1\n"
     ]
    }
   ],
   "source": [
    "\n",
    "a=Book(\"Math\",\"Np bali\",123)\n",
    "a=Library(2,\"Math\",\"Np bali\",123)\n",
    "a.add()\n",
    "a.borrower(123)\n",
    "print(b)\n",
    "b=a.Available()\n",
    "print(b)"
   ]
  },
  {
   "cell_type": "code",
   "execution_count": 50,
   "id": "f3e60675-8095-4a3e-8871-6285c300f0d9",
   "metadata": {},
   "outputs": [
    {
     "name": "stdout",
     "output_type": "stream",
     "text": [
      "{123: ['Math', 'Np bali']}\n",
      "You borrow the book whose ID is 123 and is authored by Np bali\n",
      "The item is not available.\n"
     ]
    }
   ],
   "source": [
    "\n",
    "a=Book(\"Math\",\"Np bali\",123)\n",
    "a=Library(b,\"Math\",\"Np bali\",123)\n",
    "a.add()\n",
    "a.borrower(123)\n",
    "b=a.Available()"
   ]
  },
  {
   "cell_type": "code",
   "execution_count": 51,
   "id": "457b4cc5-d0b0-4496-bf7e-3492d8e2ddfc",
   "metadata": {},
   "outputs": [
    {
     "name": "stdout",
     "output_type": "stream",
     "text": [
      "{123: ['Math', 'Np bali']}\n",
      "Your item is not available.\n",
      "The item is not available.\n"
     ]
    },
    {
     "data": {
      "text/plain": [
       "0"
      ]
     },
     "execution_count": 51,
     "metadata": {},
     "output_type": "execute_result"
    }
   ],
   "source": [
    "a=Book(\"Math\",\"Np bali\",123)\n",
    "a=Library(b,\"Math\",\"Np bali\",123)\n",
    "a.add()\n",
    "b=a.borrower(123)\n",
    "a.Available()"
   ]
  },
  {
   "cell_type": "code",
   "execution_count": null,
   "id": "1a15142d-4506-4aa5-8379-6893e6f7ba09",
   "metadata": {},
   "outputs": [],
   "source": []
  },
  {
   "cell_type": "code",
   "execution_count": null,
   "id": "7629ab4e-e553-4682-965f-1a5641f0b588",
   "metadata": {},
   "outputs": [],
   "source": [
    "#Problem 5: Product Inventory Create classes representing a product and an inventory system. Implement methods to add products to the inventory, update product quantity, and display available products."
   ]
  },
  {
   "cell_type": "code",
   "execution_count": 3,
   "id": "72fc431e-301f-4df8-81ba-53e5aeb94da4",
   "metadata": {},
   "outputs": [],
   "source": [
    "class product:\n",
    "    def __init__(self,N,id,name):\n",
    "        self.N=N\n",
    "        self.id=id\n",
    "        self.name=name"
   ]
  },
  {
   "cell_type": "code",
   "execution_count": 13,
   "id": "798b7dd4-c0a4-49ef-bd05-c8dee310d3be",
   "metadata": {},
   "outputs": [],
   "source": [
    "class inventory(product):\n",
    "    flag=0\n",
    "    def __init__(self,N,id,name):\n",
    "        super().__init__(N,id,name)\n",
    "        self.N = N\n",
    "        self.Dic = {}\n",
    "    def add(self):\n",
    "        if self.N>0:\n",
    "            self.flag=self.flag+1\n",
    "            self.Dic[self.id]=self.name\n",
    "        else:\n",
    "            print(f\"You have not object of this {self.id} \")\n",
    "\n",
    "    def display(self):\n",
    "        print(f\"Your object is is {self.id}:\")\n",
    "        if self.flag>=1:\n",
    "            self.N=self.N-1\n",
    "            print(f\"The object name is {self.name}\")\n",
    "            print(self.Dic)\n",
    "            print(f\"your object is after adding and id is {self.id}\",self.N)\n",
    "        else:\n",
    "            print(f\"You have not object of this id {self.id} \")\n",
    "            \n",
    "            \n",
    "        \n",
    "        \n",
    "        \n",
    "        "
   ]
  },
  {
   "cell_type": "code",
   "execution_count": 20,
   "id": "7d348f30-8caa-41d1-b044-6e6fb05c4729",
   "metadata": {},
   "outputs": [],
   "source": [
    "a=inventory(2,123,\"apple\")"
   ]
  },
  {
   "cell_type": "code",
   "execution_count": 21,
   "id": "769d4b68-a046-44fb-b1e5-058ce55ab6c3",
   "metadata": {},
   "outputs": [],
   "source": [
    "a.add()"
   ]
  },
  {
   "cell_type": "code",
   "execution_count": 22,
   "id": "a6358589-87e9-4ed0-b01c-09d97fd51f6a",
   "metadata": {},
   "outputs": [
    {
     "name": "stdout",
     "output_type": "stream",
     "text": [
      "Your object is is 123:\n",
      "The object name is apple\n",
      "{123: 'apple'}\n",
      "your object is after adding and id is 123 1\n"
     ]
    }
   ],
   "source": [
    "a.display()"
   ]
  },
  {
   "cell_type": "code",
   "execution_count": 23,
   "id": "01721df4-e347-436f-8c6c-2a7de788a17b",
   "metadata": {},
   "outputs": [],
   "source": [
    "b=inventory(1,124,\"Torch\")"
   ]
  },
  {
   "cell_type": "code",
   "execution_count": 25,
   "id": "d9f4363a-bdd3-4830-b224-ed2e8c01c34a",
   "metadata": {},
   "outputs": [],
   "source": [
    "b.add()"
   ]
  },
  {
   "cell_type": "code",
   "execution_count": 26,
   "id": "b6479fd9-ecc1-441c-99f6-c3be166e530d",
   "metadata": {},
   "outputs": [
    {
     "name": "stdout",
     "output_type": "stream",
     "text": [
      "Your object is is 124:\n",
      "The object name is Torch\n",
      "{124: 'Torch'}\n",
      "your object is after adding and id is 124 0\n"
     ]
    }
   ],
   "source": [
    "b.display()"
   ]
  },
  {
   "cell_type": "code",
   "execution_count": 28,
   "id": "47b701ec-579e-4850-b41a-b9ac873c0a30",
   "metadata": {},
   "outputs": [],
   "source": [
    "d=inventory(0,125,\"Bulb\")"
   ]
  },
  {
   "cell_type": "code",
   "execution_count": 29,
   "id": "ed6216c1-eb9e-4b6f-a1ca-5de56c69f81d",
   "metadata": {},
   "outputs": [
    {
     "name": "stdout",
     "output_type": "stream",
     "text": [
      "You have not object of this 125 \n"
     ]
    }
   ],
   "source": [
    "d.add()"
   ]
  },
  {
   "cell_type": "code",
   "execution_count": 30,
   "id": "367969c0-997d-47e4-809f-0c5d08f7b780",
   "metadata": {},
   "outputs": [
    {
     "name": "stdout",
     "output_type": "stream",
     "text": [
      "Your object is is 125:\n",
      "You have not object of this 125 \n"
     ]
    }
   ],
   "source": [
    "d.display()"
   ]
  },
  {
   "cell_type": "code",
   "execution_count": null,
   "id": "8e495973-c0a9-4fe8-9c67-8658016bdff7",
   "metadata": {},
   "outputs": [],
   "source": [
    "#Problem 6: Shape Calculation Create a class representing a shape with attributes like length, width, and height. Implement methods to calculate the area and perimeter of the shape."
   ]
  },
  {
   "cell_type": "code",
   "execution_count": 46,
   "id": "2ebca71d-93fc-4b7a-b9f7-6b810f3b72e9",
   "metadata": {},
   "outputs": [
    {
     "name": "stdout",
     "output_type": "stream",
     "text": [
      "96\n",
      "48\n"
     ]
    }
   ],
   "source": [
    "class Shape:\n",
    "    def __init__(self, length, width=None, height=None):\n",
    "        self.length = length\n",
    "        self.width = width\n",
    "        self.height = height\n",
    "\n",
    "    def calculate_area(self):\n",
    "        pass\n",
    "\n",
    "    def calculate_perimeter(self):\n",
    "        pass\n",
    "\n",
    "class Rectangle(Shape):\n",
    "    def calculate_area(self):\n",
    "        print(self.length * self.width)\n",
    "\n",
    "    def calculate_perimeter(self):\n",
    "        print(2 * (self.length + self.width))\n",
    "\n",
    "class Triangle(Shape):\n",
    "    def calculate_area(self):\n",
    "        print( 0.5*width*height)\n",
    "\n",
    "    def calculate_perimeter(self):\n",
    "        print( length+height+width)\n",
    "\n",
    "class Cube(Shape):\n",
    "    def calculate_area(self):\n",
    "        print( 6 * (self.length ** 2))\n",
    "\n",
    "    def calculate_perimeter(self):\n",
    "        print( 12 * self.length)\n",
    "\n",
    "\n",
    "cube = Cube(4)\n",
    "area = cube.calculate_area()\n",
    "perimeter = cube.calculate_perimeter()\n"
   ]
  },
  {
   "cell_type": "code",
   "execution_count": 48,
   "id": "3dbcb4bd-5a26-4ce5-a5b5-3d1787877b3c",
   "metadata": {},
   "outputs": [
    {
     "name": "stdout",
     "output_type": "stream",
     "text": [
      "15\n",
      "16\n"
     ]
    }
   ],
   "source": [
    "\n",
    "rectangle = Rectangle(5, 3)\n",
    "area = rectangle.calculate_area()\n",
    "perimeter = rectangle.calculate_perimeter()\n"
   ]
  },
  {
   "cell_type": "code",
   "execution_count": null,
   "id": "4942a847-1f9d-496a-913b-94e61a3912fd",
   "metadata": {},
   "outputs": [],
   "source": [
    "#Problem 7: Student Management Create a class representing a student with attributes like student ID, name, and grades. Implement methods to calculate the average grade and display student details."
   ]
  },
  {
   "cell_type": "code",
   "execution_count": 58,
   "id": "c1d79b62-7e12-4c41-912b-b13c1d55df1b",
   "metadata": {},
   "outputs": [
    {
     "name": "stdout",
     "output_type": "stream",
     "text": [
      "[{1: ['Alice', 2.5]}]\n"
     ]
    }
   ],
   "source": [
    "class Student:\n",
    "    l = []\n",
    "    \n",
    "    def __init__(self, id, name, grades={'A': 4, 'B': 3, 'C': 2, 'D': 1}):\n",
    "        self.id = id\n",
    "        self.name = name\n",
    "        self.grades = grades\n",
    "        \n",
    "    def average1(self):\n",
    "        self.sum = sum(self.grades.values())\n",
    "        self.average = self.sum / len(self.grades)\n",
    "        \n",
    "    def display1(self):\n",
    "        self.l.append({self.id: [self.name, self.average]})\n",
    "        print(self.l)\n",
    "\n",
    "\n",
    "student1 = Student(1, \"Alice\", {'A': 4, 'B': 3, 'C': 2, 'D': 1})\n",
    "student1.average1()\n",
    "student1.display1()\n",
    "\n",
    "\n",
    "        "
   ]
  },
  {
   "cell_type": "code",
   "execution_count": 59,
   "id": "dac95a8c-78ef-4d9e-b554-980175f61b81",
   "metadata": {},
   "outputs": [
    {
     "name": "stdout",
     "output_type": "stream",
     "text": [
      "[{1: ['Alice', 2.5]}, {2: ['shivanshu', 2.75]}]\n"
     ]
    }
   ],
   "source": [
    "student2 = Student(2, \"shivanshu\", {'A': 5, 'B': 3, 'C': 2, 'D': 1})\n",
    "student2.average1()\n",
    "student2.display1()\n"
   ]
  },
  {
   "cell_type": "code",
   "execution_count": null,
   "id": "9a1cd169-a9d6-4a5a-b703-5c6524ccd594",
   "metadata": {},
   "outputs": [],
   "source": [
    "#Problem 8: Email Management Create a class representing an email with attributes like sender, recipient, and subject. Implement methods to send an email and display email details."
   ]
  },
  {
   "cell_type": "code",
   "execution_count": 9,
   "id": "a92547a9-72f6-45ae-8532-5b2fae7d60c6",
   "metadata": {},
   "outputs": [
    {
     "name": "stdout",
     "output_type": "stream",
     "text": [
      "The email of sender is sender@example.com\n",
      "The email of recipient is recipient@example.com\n",
      "The subject is Hello, World!\n"
     ]
    },
    {
     "name": "stdin",
     "output_type": "stream",
     "text": [
      "Enter your subject:  hello \n"
     ]
    },
    {
     "name": "stdout",
     "output_type": "stream",
     "text": [
      "FROM: sender@example.com\n",
      "TO: recipient@example.com\n",
      "Subject: hello \n",
      "Time is 7.90385627746582\n",
      "Email sent successfully\n"
     ]
    }
   ],
   "source": [
    "import time\n",
    "\n",
    "class Email:\n",
    "    def __init__(self, sender, recipient, subject):\n",
    "        self.sender = sender\n",
    "        self.recipient = recipient\n",
    "        self.subject = subject\n",
    "\n",
    "    def send_email(self):\n",
    "        start = time.time()\n",
    "        sub = input(\"Enter your subject: \")\n",
    "        print(f\"FROM: {self.sender}\")\n",
    "        print(f\"TO: {self.recipient}\")\n",
    "        print(f\"Subject: {sub}\")\n",
    "        end = time.time()\n",
    "        \n",
    "        print(f\"Time is {end - start}\")\n",
    "        print(\"Email sent successfully\")\n",
    "\n",
    "    def details(self):\n",
    "        print(f\"The email of sender is {self.sender}\")\n",
    "        print(f\"The email of recipient is {self.recipient}\")\n",
    "        print(f\"The subject is {self.subject}\")\n",
    "\n",
    "\n",
    "sender_email = \"sender@example.com\"\n",
    "recipient_email = \"recipient@example.com\"\n",
    "email_subject = \"Hello, World!\"\n",
    "\n",
    "my_email = Email(sender_email, recipient_email, email_subject)\n",
    "my_email.details()  \n",
    "my_email.send_email()  "
   ]
  },
  {
   "cell_type": "code",
   "execution_count": 10,
   "id": "3a2469e5-3338-49c2-b5c1-96bb6ddaf382",
   "metadata": {},
   "outputs": [],
   "source": [
    "'''Problem 9: Social Media Profile Create a class representing a social media profile with attributes like username and posts. \n",
    "              Implement methods to add posts, display posts, and search for posts by keyword.'''"
   ]
  },
  {
   "cell_type": "code",
   "execution_count": 173,
   "id": "270417be-a1b0-430a-9f6a-5a434bfcd1e2",
   "metadata": {},
   "outputs": [
    {
     "name": "stdout",
     "output_type": "stream",
     "text": [
      "['ffgjfjsf', 'kaise hua tu itna jaruri kaise hua']\n"
     ]
    },
    {
     "name": "stdin",
     "output_type": "stream",
     "text": [
      "Enter the ID:  100\n"
     ]
    },
    {
     "name": "stdout",
     "output_type": "stream",
     "text": [
      "post is (kaise hua tu itna jaruri kaise hua) and posted by (Sumit )\n"
     ]
    }
   ],
   "source": [
    "class social_media_profile:\n",
    "    l=[]\n",
    "    def __init__(self,id,username,post):\n",
    "        self.Un=username\n",
    "        self.post=post\n",
    "        self.D={}\n",
    "        self.id=id\n",
    "\n",
    "    def add(self):\n",
    "        self.l.append({self.id:[self.post,self.Un]})\n",
    "\n",
    "        \n",
    "        \n",
    "    def display(self):\n",
    "        result=[]\n",
    "        for item in self.l:\n",
    "            for values in item.values():\n",
    "                result.append(values[0])\n",
    "        print(result)\n",
    "        \n",
    "    def search(self):\n",
    "        id1 = int(input(\"Enter the ID: \"))\n",
    "        for d in self.l:\n",
    "            if id1 in d:\n",
    "                print(f\"post is ({d[id1][0]}) and posted by ({d[id1][1]})\")\n",
    "                \n",
    "a=social_media_profile(101,\"shiav\",\"ffgjfjsf\")    \n",
    "a.add()\n",
    "a=social_media_profile(100,\"Sumit \",\"kaise hua tu itna jaruri kaise hua\")    \n",
    "a.add()\n",
    "a.display()\n",
    "a.search()\n",
    "        "
   ]
  },
  {
   "cell_type": "code",
   "execution_count": 174,
   "id": "4a1cef14-89fa-4195-b312-4bdc96d54cec",
   "metadata": {},
   "outputs": [
    {
     "data": {
      "text/plain": [
       "'\\nProblem 10: ToDo List Create a class representing a ToDo list with attributes like tasks and due dates.\\n             Implement methods to add tasks, mark tasks as completed, and display pending tasks.\\n'"
      ]
     },
     "execution_count": 174,
     "metadata": {},
     "output_type": "execute_result"
    }
   ],
   "source": [
    "\"\"\"\n",
    "Problem 10: ToDo List Create a class representing a ToDo list with attributes like tasks and due dates.\n",
    "             Implement methods to add tasks, mark tasks as completed, and display pending tasks.\n",
    "\"\"\""
   ]
  },
  {
   "cell_type": "code",
   "execution_count": 196,
   "id": "e8c6d0fa-49b9-4061-b0ea-6f129daac7e0",
   "metadata": {},
   "outputs": [],
   "source": [
    "class todo:\n",
    "    f=0\n",
    "    def __init__(self,task,due_date,completion_date):\n",
    "        self.task=task\n",
    "        self.due_date=due_date\n",
    "        self.cd=completion_date\n",
    "        self.l=[]\n",
    "    def add_task(self):\n",
    "        self.l.append(self.task)\n",
    "        self.l.append(self.due_date)\n",
    "        print(self.l)\n",
    "    def mark_as_complete(self):\n",
    "        if self.cd<=self.due_date:\n",
    "            print(f\"The task {self.task} is completed within given due date {self.due_date}\")\n",
    "        else:\n",
    "            self.f=self.f+1\n",
    "    def pending(self):\n",
    "        if self.f>0:\n",
    "            comparison_result = '<' if self.due_date < self.cd else '>'\n",
    "            print(f\"The given task ({self.task}) is not completed\")\n",
    "            print(f\"It take more than the given time\")\n",
    "            print(f\"given time is {self.due_date} {comparison_result} {self.cd}\")\n",
    "\n",
    "            "
   ]
  },
  {
   "cell_type": "code",
   "execution_count": 201,
   "id": "858e73da-632e-44c9-975f-7c0271f68fa8",
   "metadata": {},
   "outputs": [],
   "source": [
    "a=todo(\"write\",2,3)"
   ]
  },
  {
   "cell_type": "code",
   "execution_count": 202,
   "id": "0a8315cd-783c-4d3a-9e18-8657cae452ab",
   "metadata": {},
   "outputs": [
    {
     "name": "stdout",
     "output_type": "stream",
     "text": [
      "['write', 2]\n"
     ]
    }
   ],
   "source": [
    "a.add_task()"
   ]
  },
  {
   "cell_type": "code",
   "execution_count": 203,
   "id": "4602491a-3dd7-4bc0-b6b7-f380b28b098c",
   "metadata": {},
   "outputs": [],
   "source": [
    "a.mark_as_complete()"
   ]
  },
  {
   "cell_type": "code",
   "execution_count": 204,
   "id": "9f4311fd-3792-4261-a11d-a90ae93305c7",
   "metadata": {},
   "outputs": [
    {
     "name": "stdout",
     "output_type": "stream",
     "text": [
      "The given task (write) is not completed\n",
      "It take more than the given time\n",
      "given time is 2 < 3\n"
     ]
    }
   ],
   "source": [
    "a.pending()"
   ]
  },
  {
   "cell_type": "code",
   "execution_count": null,
   "id": "0e0dd582-3a21-49d7-a127-02fef0b3216d",
   "metadata": {},
   "outputs": [],
   "source": []
  },
  {
   "cell_type": "code",
   "execution_count": null,
   "id": "32059d29-5db9-4ce5-b19f-d797f1f9af41",
   "metadata": {},
   "outputs": [],
   "source": []
  }
 ],
 "metadata": {
  "kernelspec": {
   "display_name": "Python 3 (ipykernel)",
   "language": "python",
   "name": "python3"
  },
  "language_info": {
   "codemirror_mode": {
    "name": "ipython",
    "version": 3
   },
   "file_extension": ".py",
   "mimetype": "text/x-python",
   "name": "python",
   "nbconvert_exporter": "python",
   "pygments_lexer": "ipython3",
   "version": "3.10.7"
  }
 },
 "nbformat": 4,
 "nbformat_minor": 5
}
